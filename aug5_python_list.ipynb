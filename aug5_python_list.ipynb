{
 "cells": [
  {
   "cell_type": "markdown",
   "id": "63696bf1",
   "metadata": {},
   "source": [
    "# 📃List - Data Structure\n",
    "- ordered collection of values(same data type in list)\n",
    "- list symbol [ ]\n",
    "- index (subscript) starting postion with zero\n",
    "- index forward : 0, 1, 2, 3, ....\n",
    "- index backward: -1, -2, -3, ... \n",
    "- for in loop\n",
    "- len (len: number of values in array or list)\n",
    "- list can have duplicate values \n",
    "- Range of Index\n",
    "- Check if a value exist in list or not(Searching)"
   ]
  },
  {
   "cell_type": "code",
   "execution_count": 31,
   "id": "5101667e",
   "metadata": {},
   "outputs": [
    {
     "name": "stdout",
     "output_type": "stream",
     "text": [
      "Marks = [90, 80, 60, 20, 40, 70, 100, 50]\n"
     ]
    }
   ],
   "source": [
    "marks = [90, 80, 60, 20, 40, 70, 100, 50]\n",
    "# print(\"Original marks:\", marks)\n",
    "# marks  \n",
    "print(\"Marks =\", marks)"
   ]
  },
  {
   "cell_type": "code",
   "execution_count": 32,
   "id": "d1cd6fd3",
   "metadata": {},
   "outputs": [
    {
     "data": {
      "text/plain": [
       "90"
      ]
     },
     "execution_count": 32,
     "metadata": {},
     "output_type": "execute_result"
    }
   ],
   "source": [
    "marks[0]   # Accessing the first element of the list\n"
   ]
  },
  {
   "cell_type": "code",
   "execution_count": 33,
   "id": "12e6d7d9",
   "metadata": {},
   "outputs": [
    {
     "data": {
      "text/plain": [
       "80"
      ]
     },
     "execution_count": 33,
     "metadata": {},
     "output_type": "execute_result"
    }
   ],
   "source": [
    "marks[1]   # Es sy second element ko access kr skty hain by giving index value 1"
   ]
  },
  {
   "cell_type": "code",
   "execution_count": 34,
   "id": "06be92d2",
   "metadata": {},
   "outputs": [
    {
     "name": "stdout",
     "output_type": "stream",
     "text": [
      "8\n"
     ]
    }
   ],
   "source": [
    "print (len(marks))  # List ki length ko check krna kah kitny elements hain"
   ]
  },
  {
   "cell_type": "code",
   "execution_count": null,
   "id": "8c1f010a",
   "metadata": {},
   "outputs": [],
   "source": [
    "marks[8]   # ❌Ya error dega kyun ka ya index main nahi ha,  Error:⚠️ list index out of range"
   ]
  },
  {
   "cell_type": "code",
   "execution_count": null,
   "id": "ee774732",
   "metadata": {},
   "outputs": [
    {
     "data": {
      "text/plain": [
       "50"
      ]
     },
     "execution_count": 16,
     "metadata": {},
     "output_type": "execute_result"
    }
   ],
   "source": [
    "marks[7]  # 7 index main jo bhi element hoga wo print hojaye ga "
   ]
  },
  {
   "cell_type": "markdown",
   "id": "7606139d",
   "metadata": {},
   "source": [
    "##  index forward : 0, 1, 2, 3, ....\n",
    "##  index backward: -1, -2, -3, ... \n"
   ]
  },
  {
   "cell_type": "code",
   "execution_count": null,
   "id": "d3486cc1",
   "metadata": {},
   "outputs": [],
   "source": [
    "marks = [90, 80, 60, 20, 40, 70, 100, 50]\n"
   ]
  },
  {
   "cell_type": "code",
   "execution_count": null,
   "id": "63af99d4",
   "metadata": {},
   "outputs": [
    {
     "data": {
      "text/plain": [
       "[80, 60, 20]"
      ]
     },
     "execution_count": 23,
     "metadata": {},
     "output_type": "execute_result"
    }
   ],
   "source": [
    "# Index forward: \n",
    "# marks[0]     # list main jo bhi element hoga zero index main wo print hojaye ga\n",
    "marks[1:4]     # List main sy index 1 sy 4 tk ky element ko print kry ga mgr last index 4 ko include nahi kry ga \n",
    "# Ya OUTPUT hoga : [80,60,20]\n",
    "marks[0: 5]    # List main sy index 0 sy 5 tk ky element ko print kry ga mgr last index 5 ko include nahi kry ga\n",
    "# Ya OUTPUT hoga: 90,89,20,50"
   ]
  },
  {
   "cell_type": "code",
   "execution_count": null,
   "id": "379d504a",
   "metadata": {},
   "outputs": [],
   "source": [
    "marks1 = [50, 60, 40, 80, 90, 30, 20 ]\n"
   ]
  },
  {
   "cell_type": "code",
   "execution_count": null,
   "id": "0847becd",
   "metadata": {},
   "outputs": [
    {
     "data": {
      "text/plain": [
       "30"
      ]
     },
     "execution_count": 30,
     "metadata": {},
     "output_type": "execute_result"
    }
   ],
   "source": [
    "marks1[5]"
   ]
  },
  {
   "cell_type": "code",
   "execution_count": null,
   "id": "e09c78bf",
   "metadata": {},
   "outputs": [
    {
     "data": {
      "text/plain": [
       "80"
      ]
     },
     "execution_count": 31,
     "metadata": {},
     "output_type": "execute_result"
    }
   ],
   "source": [
    "marks1[3]"
   ]
  },
  {
   "cell_type": "code",
   "execution_count": null,
   "id": "c7d8aa6c",
   "metadata": {},
   "outputs": [
    {
     "data": {
      "text/plain": [
       "[60]"
      ]
     },
     "execution_count": 32,
     "metadata": {},
     "output_type": "execute_result"
    }
   ],
   "source": [
    "marks1[1:2]"
   ]
  },
  {
   "cell_type": "code",
   "execution_count": null,
   "id": "516869aa",
   "metadata": {},
   "outputs": [
    {
     "data": {
      "text/plain": [
       "[40]"
      ]
     },
     "execution_count": 33,
     "metadata": {},
     "output_type": "execute_result"
    }
   ],
   "source": [
    "marks1[2:3]"
   ]
  },
  {
   "cell_type": "code",
   "execution_count": null,
   "id": "d857333b",
   "metadata": {},
   "outputs": [
    {
     "data": {
      "text/plain": [
       "20"
      ]
     },
     "execution_count": 34,
     "metadata": {},
     "output_type": "execute_result"
    }
   ],
   "source": [
    "marks1[6]"
   ]
  },
  {
   "cell_type": "code",
   "execution_count": null,
   "id": "a2234084",
   "metadata": {},
   "outputs": [
    {
     "ename": "IndexError",
     "evalue": "list index out of range",
     "output_type": "error",
     "traceback": [
      "\u001b[31m---------------------------------------------------------------------------\u001b[39m",
      "\u001b[31mIndexError\u001b[39m                                Traceback (most recent call last)",
      "\u001b[36mCell\u001b[39m\u001b[36m \u001b[39m\u001b[32mIn[35]\u001b[39m\u001b[32m, line 1\u001b[39m\n\u001b[32m----> \u001b[39m\u001b[32m1\u001b[39m \u001b[43mmarks\u001b[49m\u001b[43m[\u001b[49m\u001b[32;43m7\u001b[39;49m\u001b[43m]\u001b[49m\n",
      "\u001b[31mIndexError\u001b[39m: list index out of range"
     ]
    }
   ],
   "source": [
    "marks[7]  # list main 7 index main koi bhi element nhi ha  es liye error aye ga out of range"
   ]
  },
  {
   "cell_type": "code",
   "execution_count": null,
   "id": "076a3c4c",
   "metadata": {},
   "outputs": [
    {
     "data": {
      "text/plain": [
       "50"
      ]
     },
     "execution_count": 36,
     "metadata": {},
     "output_type": "execute_result"
    }
   ],
   "source": [
    "marks1[0]"
   ]
  },
  {
   "cell_type": "code",
   "execution_count": null,
   "id": "6406cb0b",
   "metadata": {},
   "outputs": [
    {
     "data": {
      "text/plain": [
       "[60, 40, 80]"
      ]
     },
     "execution_count": 37,
     "metadata": {},
     "output_type": "execute_result"
    }
   ],
   "source": [
    "marks1[1:4]"
   ]
  },
  {
   "cell_type": "code",
   "execution_count": null,
   "id": "59fbf689",
   "metadata": {},
   "outputs": [
    {
     "data": {
      "text/plain": [
       "[80, 90, 30]"
      ]
     },
     "execution_count": 38,
     "metadata": {},
     "output_type": "execute_result"
    }
   ],
   "source": [
    "marks1[3:6]"
   ]
  },
  {
   "cell_type": "code",
   "execution_count": null,
   "id": "2c2993af",
   "metadata": {},
   "outputs": [
    {
     "data": {
      "text/plain": [
       "[90, 30]"
      ]
     },
     "execution_count": 3,
     "metadata": {},
     "output_type": "execute_result"
    }
   ],
   "source": [
    "marks1[4:6]"
   ]
  },
  {
   "cell_type": "code",
   "execution_count": null,
   "id": "f17e71f4",
   "metadata": {},
   "outputs": [
    {
     "data": {
      "text/plain": [
       "[90]"
      ]
     },
     "execution_count": 4,
     "metadata": {},
     "output_type": "execute_result"
    }
   ],
   "source": [
    "marks1[4:6:2]"
   ]
  },
  {
   "cell_type": "code",
   "execution_count": null,
   "id": "3b723c8e",
   "metadata": {},
   "outputs": [
    {
     "data": {
      "text/plain": [
       "[40, 90]"
      ]
     },
     "execution_count": 5,
     "metadata": {},
     "output_type": "execute_result"
    }
   ],
   "source": [
    "marks1[2:6:2]"
   ]
  },
  {
   "cell_type": "code",
   "execution_count": null,
   "id": "1b6f3a07",
   "metadata": {},
   "outputs": [
    {
     "data": {
      "text/plain": [
       "[50, 60, 40, 80, 90, 30]"
      ]
     },
     "execution_count": 6,
     "metadata": {},
     "output_type": "execute_result"
    }
   ],
   "source": [
    "marks1[0:6]"
   ]
  },
  {
   "cell_type": "code",
   "execution_count": null,
   "id": "ffcccc69",
   "metadata": {},
   "outputs": [
    {
     "data": {
      "text/plain": [
       "[50, 40, 90]"
      ]
     },
     "execution_count": 7,
     "metadata": {},
     "output_type": "execute_result"
    }
   ],
   "source": [
    "marks1[0:6:2]"
   ]
  },
  {
   "cell_type": "code",
   "execution_count": null,
   "id": "751931a5",
   "metadata": {},
   "outputs": [
    {
     "data": {
      "text/plain": [
       "50"
      ]
     },
     "execution_count": 12,
     "metadata": {},
     "output_type": "execute_result"
    }
   ],
   "source": [
    "# marks1[-1]\n",
    "# marks1[-2]\n",
    "# marks1[-5]\n",
    "marks1[-7]"
   ]
  },
  {
   "cell_type": "code",
   "execution_count": null,
   "id": "aef0625e",
   "metadata": {},
   "outputs": [
    {
     "data": {
      "text/plain": [
       "[50, 40, 90]"
      ]
     },
     "execution_count": 19,
     "metadata": {},
     "output_type": "execute_result"
    }
   ],
   "source": [
    "marks1[-7:-1: 2]"
   ]
  },
  {
   "cell_type": "code",
   "execution_count": null,
   "id": "5856f83e",
   "metadata": {},
   "outputs": [
    {
     "name": "stdout",
     "output_type": "stream",
     "text": [
      "50\n",
      "60\n",
      "40\n",
      "80\n",
      "90\n",
      "30\n",
      "20\n"
     ]
    }
   ],
   "source": [
    "# loop in marks \n",
    "for mark in marks1:\n",
    "  print(mark)"
   ]
  },
  {
   "cell_type": "code",
   "execution_count": null,
   "id": "4dfb31d6",
   "metadata": {},
   "outputs": [
    {
     "data": {
      "text/plain": [
       "7"
      ]
     },
     "execution_count": 28,
     "metadata": {},
     "output_type": "execute_result"
    }
   ],
   "source": [
    "len(marks1)"
   ]
  },
  {
   "cell_type": "code",
   "execution_count": null,
   "id": "9d4150a4",
   "metadata": {},
   "outputs": [
    {
     "name": "stdout",
     "output_type": "stream",
     "text": [
      "50\n",
      "60\n",
      "40\n",
      "80\n",
      "90\n",
      "30\n",
      "20\n"
     ]
    }
   ],
   "source": [
    "mark = 0\n",
    "while mark  < len(marks1):\n",
    "  print(marks1[mark])\n",
    "  mark = mark +1"
   ]
  },
  {
   "cell_type": "code",
   "execution_count": null,
   "id": "13c135e4",
   "metadata": {},
   "outputs": [
    {
     "name": "stdout",
     "output_type": "stream",
     "text": [
      "50: Failed\n",
      "60: Passed\n",
      "40: Failed\n",
      "80: Passed\n",
      "90: Passed\n",
      "30: Failed\n",
      "20: Failed\n"
     ]
    }
   ],
   "source": [
    "for mark in marks1:\n",
    "  \n",
    "  if mark > 50:\n",
    "    print(f\"{mark}: Passed\")\n",
    "  else:\n",
    "    print(f\"{mark}: Failed\")"
   ]
  },
  {
   "cell_type": "code",
   "execution_count": null,
   "id": "a78618df",
   "metadata": {},
   "outputs": [
    {
     "name": "stdout",
     "output_type": "stream",
     "text": [
      "50 Failed\n",
      "60 Passed\n",
      "40 Failed\n",
      "80 Passed\n",
      "90 Passed\n",
      "30 Failed\n",
      "20 Failed\n"
     ]
    }
   ],
   "source": [
    "\n",
    "mark = 0\n",
    "\n",
    "while mark < len(marks1):\n",
    "  # print(marks1[mark])\n",
    "  \n",
    "  if marks1[mark] > 50:\n",
    "    print(marks1[mark],\"Passed\")\n",
    "  else:\n",
    "    print(marks1[mark], \"Failed\")\n",
    "  mark = mark + 1"
   ]
  },
  {
   "cell_type": "code",
   "execution_count": null,
   "id": "64c1b9fd",
   "metadata": {},
   "outputs": [],
   "source": [
    "# collections of cities values \n",
    "cities = [\"Lahore\", \"Karachi\", \"Islamabad\", \"Peshawar\"]"
   ]
  },
  {
   "cell_type": "code",
   "execution_count": null,
   "id": "ce966f05",
   "metadata": {},
   "outputs": [
    {
     "data": {
      "text/plain": [
       "4"
      ]
     },
     "execution_count": 63,
     "metadata": {},
     "output_type": "execute_result"
    }
   ],
   "source": [
    "# Checking total value in list \n",
    "\n",
    "len(cities)\n",
    "# output : 4"
   ]
  },
  {
   "cell_type": "code",
   "execution_count": null,
   "id": "a5687e86",
   "metadata": {},
   "outputs": [
    {
     "data": {
      "text/plain": [
       "'Peshawar'"
      ]
     },
     "execution_count": 72,
     "metadata": {},
     "output_type": "execute_result"
    }
   ],
   "source": [
    "# cities[0]\n",
    "# cities[-4]\n",
    "# cities[-1]\n",
    "# cities[3]"
   ]
  },
  {
   "cell_type": "code",
   "execution_count": null,
   "id": "54fa138c",
   "metadata": {},
   "outputs": [
    {
     "name": "stdout",
     "output_type": "stream",
     "text": [
      "[True, False, True, True, False]\n",
      "<class 'list'>\n"
     ]
    }
   ],
   "source": [
    "bool_list = [True, False, True, True, False]\n",
    "print(bool_list)\n",
    "print(type(bool_list))"
   ]
  },
  {
   "cell_type": "code",
   "execution_count": null,
   "id": "68e4bd09",
   "metadata": {},
   "outputs": [
    {
     "name": "stdout",
     "output_type": "stream",
     "text": [
      "True\n",
      "False\n",
      "True\n",
      "True\n",
      "False\n"
     ]
    }
   ],
   "source": [
    "for bool in bool_list:\n",
    "  \n",
    "  if bool == True:\n",
    "    print(\"True\")\n",
    "  else:\n",
    "    print(\"False\")"
   ]
  },
  {
   "cell_type": "code",
   "execution_count": null,
   "id": "edc8a81f",
   "metadata": {},
   "outputs": [
    {
     "data": {
      "text/plain": [
       "float"
      ]
     },
     "execution_count": 15,
     "metadata": {},
     "output_type": "execute_result"
    }
   ],
   "source": [
    "            # Data Types \n",
    "# x = 1     # int    single value\n",
    "x = 1.5     # float  single value\n",
    "# x = \"10\"  # String single value\n",
    "# x = True  # Bool   single value\n",
    "# x = {}    # Dict   key value pair value\n",
    "# x = [10]   # List  collection of value \n",
    "# x = (10,)  # Tuple collection of unique value\n",
    "# x  # always assign the value in right side\n",
    "type(x)"
   ]
  },
  {
   "cell_type": "code",
   "execution_count": null,
   "id": "fbc9722a",
   "metadata": {},
   "outputs": [
    {
     "data": {
      "text/plain": [
       "['Lahore', 'karachi', 'Islamabad', 'Lahore']"
      ]
     },
     "execution_count": 30,
     "metadata": {},
     "output_type": "execute_result"
    }
   ],
   "source": [
    "cities = [\"Lahore\",\"karachi\",  \"Islamabad\", \"Lahore\", \" Peshawar\", \"Karachi\"]\n",
    "\n",
    "# len(cities)  # 6 element in list\n",
    "\n",
    "# cities[2:6]     #   [\"Islamabad\", \"Lahore\", \"Peshawar\"]\n",
    "# cities[2:4]     #   [ \"Islamabad, \"Lahore\"]\n",
    "# cities[4:]\n",
    "# cities[:4]\n",
    "cities[-6: -2]"
   ]
  },
  {
   "cell_type": "code",
   "execution_count": 36,
   "id": "88fefca2",
   "metadata": {},
   "outputs": [],
   "source": [
    "marks = [90, 10, 85, 70, 20]"
   ]
  },
  {
   "cell_type": "code",
   "execution_count": null,
   "id": "c9947fe4",
   "metadata": {},
   "outputs": [],
   "source": [
    "# Clear List Method\n",
    "marks.clear()  # clear  list method to make list empty "
   ]
  },
  {
   "cell_type": "code",
   "execution_count": 40,
   "id": "ce7f7f82",
   "metadata": {},
   "outputs": [
    {
     "data": {
      "text/plain": [
       "[]"
      ]
     },
     "execution_count": 40,
     "metadata": {},
     "output_type": "execute_result"
    }
   ],
   "source": [
    "marks"
   ]
  },
  {
   "cell_type": "code",
   "execution_count": 45,
   "id": "2b945394",
   "metadata": {},
   "outputs": [],
   "source": [
    "# Append list method add value \n",
    "marks.append(45)\n",
    "marks.append(40)\n",
    "marks.append(30)"
   ]
  },
  {
   "cell_type": "code",
   "execution_count": 71,
   "id": "4a05bd5f",
   "metadata": {},
   "outputs": [
    {
     "name": "stdout",
     "output_type": "stream",
     "text": [
      "Here is the complete list of Marks: [45, 65, 85, 75, 35]\n",
      "Result\n",
      "❌Failed : 45\n",
      "✅Passed : 65\n",
      "✅Passed : 85\n",
      "✅Passed : 75\n",
      "❌Failed : 35\n"
     ]
    }
   ],
   "source": [
    "marks = []\n",
    "do_again = \"yes\"\n",
    "\n",
    "\n",
    "while do_again.lower() == \"yes\":\n",
    "  \n",
    "  try:\n",
    "    # Get marks from user\n",
    "    user_input = int(input(\"Enter Marks :\"))\n",
    "    # Add user marks in Empty marks list\n",
    "    marks.append(user_input)\n",
    "  except ValueError:\n",
    "    print(\"Please enter a valid number .\")\n",
    "    continue\n",
    "    # Options \n",
    "  do_again = input(\"Do you want to add more marks (yes/no):\")\n",
    "\n",
    "print(f\"Here is the complete list of Marks: {marks}\")\n",
    "print(\"Result\")\n",
    "\n",
    "for mark in marks:\n",
    "  \n",
    "  if mark >= 50:\n",
    "    print(f\"✅Passed : {mark}\")\n",
    "  else:\n",
    "    print(f\"❌Failed : {mark}\")"
   ]
  },
  {
   "cell_type": "code",
   "execution_count": null,
   "id": "ceea8d40",
   "metadata": {},
   "outputs": [
    {
     "data": {
      "text/plain": [
       "[45, 45, 45, 40, 30]"
      ]
     },
     "execution_count": 46,
     "metadata": {},
     "output_type": "execute_result"
    }
   ],
   "source": [
    "# marks"
   ]
  },
  {
   "cell_type": "code",
   "execution_count": 47,
   "id": "c3bb9266",
   "metadata": {},
   "outputs": [],
   "source": [
    "fruits = []   # empty list"
   ]
  },
  {
   "cell_type": "code",
   "execution_count": 48,
   "id": "c69cc311",
   "metadata": {},
   "outputs": [],
   "source": [
    "fruits.append(\"Apple\")\n",
    "fruits.append(\"Cherry\")\n",
    "fruits.append(\"Banana\")\n",
    "fruits.append(\"Orange\")\n"
   ]
  },
  {
   "cell_type": "code",
   "execution_count": 49,
   "id": "a3cc6430",
   "metadata": {},
   "outputs": [
    {
     "data": {
      "text/plain": [
       "['Apple', 'Cherry', 'Banana', 'Orange']"
      ]
     },
     "execution_count": 49,
     "metadata": {},
     "output_type": "execute_result"
    }
   ],
   "source": [
    "fruits"
   ]
  },
  {
   "cell_type": "code",
   "execution_count": null,
   "id": "9b06883f",
   "metadata": {},
   "outputs": [
    {
     "data": {
      "text/plain": [
       "list"
      ]
     },
     "execution_count": 50,
     "metadata": {},
     "output_type": "execute_result"
    }
   ],
   "source": [
    "# Checking list Type\n",
    "type(fruits)"
   ]
  },
  {
   "cell_type": "code",
   "execution_count": 58,
   "id": "2f50bf6a",
   "metadata": {},
   "outputs": [
    {
     "data": {
      "text/plain": [
       "3"
      ]
     },
     "execution_count": 58,
     "metadata": {},
     "output_type": "execute_result"
    }
   ],
   "source": [
    "#  List Index Method to check the index value of list element\n",
    "fruits.index(\"Apple\")\n",
    "fruits.index(\"Orange\")"
   ]
  },
  {
   "cell_type": "code",
   "execution_count": 59,
   "id": "f73bb3bf",
   "metadata": {},
   "outputs": [],
   "source": [
    "fruits.reverse()"
   ]
  },
  {
   "cell_type": "code",
   "execution_count": 60,
   "id": "b55d925d",
   "metadata": {},
   "outputs": [
    {
     "data": {
      "text/plain": [
       "['Orange', 'Banana', 'Cherry', 'Apple']"
      ]
     },
     "execution_count": 60,
     "metadata": {},
     "output_type": "execute_result"
    }
   ],
   "source": [
    "fruits"
   ]
  },
  {
   "cell_type": "code",
   "execution_count": null,
   "id": "f67eeebc",
   "metadata": {},
   "outputs": [],
   "source": []
  }
 ],
 "metadata": {
  "kernelspec": {
   "display_name": "nxb_class",
   "language": "python",
   "name": "python3"
  },
  "language_info": {
   "codemirror_mode": {
    "name": "ipython",
    "version": 3
   },
   "file_extension": ".py",
   "mimetype": "text/x-python",
   "name": "python",
   "nbconvert_exporter": "python",
   "pygments_lexer": "ipython3",
   "version": "3.13.5"
  }
 },
 "nbformat": 4,
 "nbformat_minor": 5
}
